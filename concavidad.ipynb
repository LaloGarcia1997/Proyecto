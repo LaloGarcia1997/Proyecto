{
  "nbformat": 4,
  "nbformat_minor": 0,
  "metadata": {
    "colab": {
      "name": "Untitled0.ipynb",
      "provenance": [],
      "authorship_tag": "ABX9TyNJHPaZ4dean5mmBokxEUF5",
      "include_colab_link": true
    },
    "kernelspec": {
      "name": "python3",
      "display_name": "Python 3"
    }
  },
  "cells": [
    {
      "cell_type": "markdown",
      "metadata": {
        "id": "view-in-github",
        "colab_type": "text"
      },
      "source": [
        "<a href=\"https://colab.research.google.com/github/LaloGarcia1997/Proyecto/blob/master/concavidad.ipynb\" target=\"_parent\"><img src=\"https://colab.research.google.com/assets/colab-badge.svg\" alt=\"Open In Colab\"/></a>"
      ]
    },
    {
      "cell_type": "code",
      "metadata": {
        "id": "FBbRmy1UgW2a",
        "outputId": "0855551c-29aa-4250-8df2-f01d0a42681c",
        "colab": {
          "base_uri": "https://localhost:8080/",
          "height": 469
        }
      },
      "source": [
        "import numpy as np\n",
        "import matplotlib.pyplot as plt\n",
        "def f1(x):\n",
        "  return x*x*x*x\n",
        "\n",
        "def f1_1a(x):\n",
        "  return 4*x*x*x \n",
        "\n",
        "def f1_2a(x):\n",
        "  return 12*x*x\n",
        "\n",
        "x = np.linspace(-4, 4, 11)\n",
        "for x_ in x:\n",
        "  print( x_, 'creciente' if f1_2a(x_)>0 else 'decreciente' if f1_2a(x_)<0 else 'cero')\n",
        "  y = f1(x)\n",
        "plt.plot(x, y) "
      ],
      "execution_count": 1,
      "outputs": [
        {
          "output_type": "stream",
          "text": [
            "-4.0 creciente\n",
            "-3.2 creciente\n",
            "-2.4 creciente\n",
            "-1.5999999999999996 creciente\n",
            "-0.7999999999999998 creciente\n",
            "0.0 cero\n",
            "0.8000000000000007 creciente\n",
            "1.6000000000000005 creciente\n",
            "2.4000000000000004 creciente\n",
            "3.2 creciente\n",
            "4.0 creciente\n"
          ],
          "name": "stdout"
        },
        {
          "output_type": "execute_result",
          "data": {
            "text/plain": [
              "[<matplotlib.lines.Line2D at 0x7fbcec63ce48>]"
            ]
          },
          "metadata": {
            "tags": []
          },
          "execution_count": 1
        },
        {
          "output_type": "display_data",
          "data": {
            "image/png": "[encoded data removed]",
            "text/plain": [
              "<Figure size 432x288 with 1 Axes>"
            ]
          },
          "metadata": {
            "tags": [],
            "needs_background": "light"
          }
        }
      ]
    },
    {
      "cell_type": "code",
      "metadata": {
        "id": "9Klp7kIJguIH"
      },
      "source": [
        ""
      ],
      "execution_count": null,
      "outputs": []
    },
    {
      "cell_type": "markdown",
      "metadata": {
        "id": "3Sl5SWN2gvEs"
      },
      "source": [
        "[link text](https://)"
      ]
    }
  ]
}