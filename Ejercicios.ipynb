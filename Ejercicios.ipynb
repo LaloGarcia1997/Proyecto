{
  "nbformat": 4,
  "nbformat_minor": 0,
  "metadata": {
    "colab": {
      "name": "Ejercicios",
      "provenance": [],
      "mount_file_id": "1naAt1xALBU-f-ngrp9Ha3uDTBNna1-77",
      "authorship_tag": "ABX9TyPhhKKBEKGHqByoteHCtJde",
      "include_colab_link": true
    },
    "kernelspec": {
      "name": "python3",
      "display_name": "Python 3"
    }
  },
  "cells": [
    {
      "cell_type": "markdown",
      "metadata": {
        "id": "view-in-github",
        "colab_type": "text"
      },
      "source": [
        "<a href=\"https://colab.research.google.com/github/LaloGarcia1997/Proyecto/blob/master/Ejercicios.ipynb\" target=\"_parent\"><img src=\"https://colab.research.google.com/assets/colab-badge.svg\" alt=\"Open In Colab\"/></a>"
      ]
    },
    {
      "cell_type": "code",
      "metadata": {
        "id": "FBbRmy1UgW2a",
        "outputId": "da881b4a-e892-464b-b980-3423e59b903c",
        "colab": {
          "base_uri": "https://localhost:8080/",
          "height": 469
        }
      },
      "source": [
        "import numpy as np\n",
        "import matplotlib.pyplot as plt\n",
        "def f1(x):\n",
        "  return x*x*x*x\n",
        "\n",
        "def f1_1a(x):\n",
        "  return 4*x*x*x \n",
        "\n",
        "def f1_2a(x):\n",
        "  return 12*x*x\n",
        "\n",
        "x = np.linspace(-4, 4, 11)\n",
        "for x_ in x:\n",
        "  print( x_, 'creciente' if f1_2a(x_)>0 else 'decreciente' if f1_2a(x_)<0 else 'cero')\n",
        "  y = f1(x)\n",
        "plt.plot(x, y) "
      ],
      "execution_count": 5,
      "outputs": [
        {
          "output_type": "stream",
          "text": [
            "-4.0 creciente\n",
            "-3.2 creciente\n",
            "-2.4 creciente\n",
            "-1.5999999999999996 creciente\n",
            "-0.7999999999999998 creciente\n",
            "0.0 cero\n",
            "0.8000000000000007 creciente\n",
            "1.6000000000000005 creciente\n",
            "2.4000000000000004 creciente\n",
            "3.2 creciente\n",
            "4.0 creciente\n"
          ],
          "name": "stdout"
        },
        {
          "output_type": "execute_result",
          "data": {
            "text/plain": [
              "[<matplotlib.lines.Line2D at 0x7fbceb7ec7f0>]"
            ]
          },
          "metadata": {
            "tags": []
          },
          "execution_count": 5
        },
        {
          "output_type": "display_data",
          "data": {
            "image/png": "[encoded data removed]",
            "text/plain": [
              "<Figure size 432x288 with 1 Axes>"
            ]
          },
          "metadata": {
            "tags": [],
            "needs_background": "light"
          }
        }
      ]
    },
    {
      "cell_type": "code",
      "metadata": {
        "id": "vWu-qyVxifdf",
        "outputId": "1f1de19b-72a3-49c3-e22a-751c706f6063",
        "colab": {
          "base_uri": "https://localhost:8080/",
          "height": 469
        }
      },
      "source": [
        "import numpy as np\n",
        "import matplotlib.pyplot as plt\n",
        "def f1(x):\n",
        "  return ((1/12)*x*x*x*x)-((1/2)*x*x*x)+(x*x)+10\n",
        "\n",
        "def f1_1a(x):\n",
        "  return ((1/3)*x*x*x)-((3/2)*x*x)+2*x \n",
        "\n",
        "def f1_2a(x):\n",
        "  return x*x-3*x+2\n",
        "\n",
        "x = np.linspace(-1, 4, 11)\n",
        "for x_ in x:\n",
        "  print( x_, 'creciente' if f1_2a(x_)>0 else 'decreciente' if f1_2a(x_)<0 else 'cero')\n",
        "  y = f1(x)\n",
        "plt.plot(x, y)"
      ],
      "execution_count": 6,
      "outputs": [
        {
          "output_type": "stream",
          "text": [
            "-1.0 creciente\n",
            "-0.5 creciente\n",
            "0.0 creciente\n",
            "0.5 creciente\n",
            "1.0 cero\n",
            "1.5 decreciente\n",
            "2.0 cero\n",
            "2.5 creciente\n",
            "3.0 creciente\n",
            "3.5 creciente\n",
            "4.0 creciente\n"
          ],
          "name": "stdout"
        },
        {
          "output_type": "execute_result",
          "data": {
            "text/plain": [
              "[<matplotlib.lines.Line2D at 0x7fbceb75a4a8>]"
            ]
          },
          "metadata": {
            "tags": []
          },
          "execution_count": 6
        },
        {
          "output_type": "display_data",
          "data": {
            "image/png": "[encoded data removed]",
            "text/plain": [
              "<Figure size 432x288 with 1 Axes>"
            ]
          },
          "metadata": {
            "tags": [],
            "needs_background": "light"
          }
        }
      ]
    },
    {
      "cell_type": "code",
      "metadata": {
        "id": "H15CYEwxiqP9",
        "outputId": "02af9070-a334-40c2-edfc-f3ecc37d08c5",
        "colab": {
          "base_uri": "https://localhost:8080/",
          "height": 469
        }
      },
      "source": [
        "import numpy as np\n",
        "import matplotlib.pyplot as plt\n",
        "def f1(x):\n",
        "  return ((1/4)*x*x*x*x)-((9/2)*x*x)\n",
        "\n",
        "def f1_1a(x):\n",
        "  return x*x*x-9*x \n",
        "\n",
        "def f1_2a(x):\n",
        "  return 3*x*x-9\n",
        "\n",
        "x = np.linspace(-3, 3, 11)\n",
        "for x_ in x:\n",
        "  print( x_, 'creciente' if f1_1a(x_)>0 else 'decreciente' if f1_1a(x_)<0 else 'Valor critico')\n",
        "  y = f1(x)\n",
        "plt.plot(x, y) "
      ],
      "execution_count": 7,
      "outputs": [
        {
          "output_type": "stream",
          "text": [
            "-3.0 Valor critico\n",
            "-2.4 creciente\n",
            "-1.8 creciente\n",
            "-1.2000000000000002 creciente\n",
            "-0.6000000000000001 creciente\n",
            "0.0 Valor critico\n",
            "0.5999999999999996 decreciente\n",
            "1.2000000000000002 decreciente\n",
            "1.7999999999999998 decreciente\n",
            "2.3999999999999995 decreciente\n",
            "3.0 Valor critico\n"
          ],
          "name": "stdout"
        },
        {
          "output_type": "execute_result",
          "data": {
            "text/plain": [
              "[<matplotlib.lines.Line2D at 0x7fbceb738e48>]"
            ]
          },
          "metadata": {
            "tags": []
          },
          "execution_count": 7
        },
        {
          "output_type": "display_data",
          "data": {
            "image/png": "[encoded data removed]",
            "text/plain": [
              "<Figure size 432x288 with 1 Axes>"
            ]
          },
          "metadata": {
            "tags": [],
            "needs_background": "light"
          }
        }
      ]
    },
    {
      "cell_type": "code",
      "metadata": {
        "id": "9Klp7kIJguIH"
      },
      "source": [
        ""
      ],
      "execution_count": 7,
      "outputs": []
    },
    {
      "cell_type": "markdown",
      "metadata": {
        "id": "3Sl5SWN2gvEs"
      },
      "source": [
        "[link text](https://)"
      ]
    }
  ]
}